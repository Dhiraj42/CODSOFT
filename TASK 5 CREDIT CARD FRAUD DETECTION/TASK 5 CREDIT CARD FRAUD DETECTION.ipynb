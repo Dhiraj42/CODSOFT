{
 "cells": [
  {
   "cell_type": "code",
   "execution_count": 1,
   "id": "8e54e0ec",
   "metadata": {},
   "outputs": [],
   "source": [
    "import numpy as np\n",
    "import pandas as pd\n",
    "import matplotlib.pyplot as plt\n",
    "import seaborn as sns\n",
    "from sklearn.model_selection import train_test_split\n",
    "from sklearn.metrics import accuracy_score,confusion_matrix,f1_score"
   ]
  },
  {
   "cell_type": "code",
   "execution_count": 2,
   "id": "f1269183",
   "metadata": {},
   "outputs": [],
   "source": [
    "df=pd.read_csv(\"creditcard.csv\")"
   ]
  },
  {
   "cell_type": "code",
   "execution_count": 3,
   "id": "ebb9ab10",
   "metadata": {},
   "outputs": [
    {
     "data": {
      "text/html": [
       "<div>\n",
       "<style scoped>\n",
       "    .dataframe tbody tr th:only-of-type {\n",
       "        vertical-align: middle;\n",
       "    }\n",
       "\n",
       "    .dataframe tbody tr th {\n",
       "        vertical-align: top;\n",
       "    }\n",
       "\n",
       "    .dataframe thead th {\n",
       "        text-align: right;\n",
       "    }\n",
       "</style>\n",
       "<table border=\"1\" class=\"dataframe\">\n",
       "  <thead>\n",
       "    <tr style=\"text-align: right;\">\n",
       "      <th></th>\n",
       "      <th>Time</th>\n",
       "      <th>V1</th>\n",
       "      <th>V2</th>\n",
       "      <th>V3</th>\n",
       "      <th>V4</th>\n",
       "      <th>V5</th>\n",
       "      <th>V6</th>\n",
       "      <th>V7</th>\n",
       "      <th>V8</th>\n",
       "      <th>V9</th>\n",
       "      <th>...</th>\n",
       "      <th>V21</th>\n",
       "      <th>V22</th>\n",
       "      <th>V23</th>\n",
       "      <th>V24</th>\n",
       "      <th>V25</th>\n",
       "      <th>V26</th>\n",
       "      <th>V27</th>\n",
       "      <th>V28</th>\n",
       "      <th>Amount</th>\n",
       "      <th>Class</th>\n",
       "    </tr>\n",
       "  </thead>\n",
       "  <tbody>\n",
       "    <tr>\n",
       "      <th>0</th>\n",
       "      <td>152055</td>\n",
       "      <td>2.137513</td>\n",
       "      <td>-1.774889</td>\n",
       "      <td>0.123651</td>\n",
       "      <td>-1.496837</td>\n",
       "      <td>-2.170251</td>\n",
       "      <td>-0.300998</td>\n",
       "      <td>-1.892327</td>\n",
       "      <td>0.150420</td>\n",
       "      <td>-0.779665</td>\n",
       "      <td>...</td>\n",
       "      <td>-0.069577</td>\n",
       "      <td>0.198567</td>\n",
       "      <td>0.342330</td>\n",
       "      <td>0.020888</td>\n",
       "      <td>-0.645078</td>\n",
       "      <td>-0.280447</td>\n",
       "      <td>0.049397</td>\n",
       "      <td>-0.036202</td>\n",
       "      <td>39.32</td>\n",
       "      <td>0</td>\n",
       "    </tr>\n",
       "    <tr>\n",
       "      <th>1</th>\n",
       "      <td>152055</td>\n",
       "      <td>2.086303</td>\n",
       "      <td>0.222409</td>\n",
       "      <td>-1.748963</td>\n",
       "      <td>0.371876</td>\n",
       "      <td>0.576037</td>\n",
       "      <td>-0.769118</td>\n",
       "      <td>0.246946</td>\n",
       "      <td>-0.280569</td>\n",
       "      <td>0.360922</td>\n",
       "      <td>...</td>\n",
       "      <td>-0.363851</td>\n",
       "      <td>-0.895797</td>\n",
       "      <td>0.308897</td>\n",
       "      <td>0.404924</td>\n",
       "      <td>-0.205204</td>\n",
       "      <td>0.178142</td>\n",
       "      <td>-0.056736</td>\n",
       "      <td>-0.029960</td>\n",
       "      <td>1.98</td>\n",
       "      <td>0</td>\n",
       "    </tr>\n",
       "    <tr>\n",
       "      <th>2</th>\n",
       "      <td>152056</td>\n",
       "      <td>1.704365</td>\n",
       "      <td>-0.167720</td>\n",
       "      <td>-2.592158</td>\n",
       "      <td>1.220890</td>\n",
       "      <td>1.042788</td>\n",
       "      <td>-0.771913</td>\n",
       "      <td>1.220637</td>\n",
       "      <td>-0.460107</td>\n",
       "      <td>-0.651317</td>\n",
       "      <td>...</td>\n",
       "      <td>0.472828</td>\n",
       "      <td>1.107012</td>\n",
       "      <td>-0.357666</td>\n",
       "      <td>0.776130</td>\n",
       "      <td>0.798962</td>\n",
       "      <td>-0.266483</td>\n",
       "      <td>-0.090974</td>\n",
       "      <td>-0.049278</td>\n",
       "      <td>186.24</td>\n",
       "      <td>0</td>\n",
       "    </tr>\n",
       "    <tr>\n",
       "      <th>3</th>\n",
       "      <td>152057</td>\n",
       "      <td>1.911497</td>\n",
       "      <td>0.663399</td>\n",
       "      <td>-0.886052</td>\n",
       "      <td>3.490222</td>\n",
       "      <td>0.846244</td>\n",
       "      <td>0.318316</td>\n",
       "      <td>0.227846</td>\n",
       "      <td>-0.021496</td>\n",
       "      <td>-1.549709</td>\n",
       "      <td>...</td>\n",
       "      <td>0.291272</td>\n",
       "      <td>0.833430</td>\n",
       "      <td>0.086110</td>\n",
       "      <td>0.718088</td>\n",
       "      <td>0.128834</td>\n",
       "      <td>0.079201</td>\n",
       "      <td>-0.045118</td>\n",
       "      <td>-0.053783</td>\n",
       "      <td>2.28</td>\n",
       "      <td>0</td>\n",
       "    </tr>\n",
       "    <tr>\n",
       "      <th>4</th>\n",
       "      <td>152057</td>\n",
       "      <td>1.816562</td>\n",
       "      <td>-0.772929</td>\n",
       "      <td>-0.886973</td>\n",
       "      <td>-0.198932</td>\n",
       "      <td>0.351746</td>\n",
       "      <td>1.801854</td>\n",
       "      <td>-0.956822</td>\n",
       "      <td>0.605862</td>\n",
       "      <td>0.886718</td>\n",
       "      <td>...</td>\n",
       "      <td>0.280947</td>\n",
       "      <td>0.874777</td>\n",
       "      <td>0.180991</td>\n",
       "      <td>-0.899702</td>\n",
       "      <td>-0.511685</td>\n",
       "      <td>0.729750</td>\n",
       "      <td>-0.005731</td>\n",
       "      <td>-0.062497</td>\n",
       "      <td>50.00</td>\n",
       "      <td>0</td>\n",
       "    </tr>\n",
       "  </tbody>\n",
       "</table>\n",
       "<p>5 rows × 31 columns</p>\n",
       "</div>"
      ],
      "text/plain": [
       "     Time        V1        V2        V3        V4        V5        V6  \\\n",
       "0  152055  2.137513 -1.774889  0.123651 -1.496837 -2.170251 -0.300998   \n",
       "1  152055  2.086303  0.222409 -1.748963  0.371876  0.576037 -0.769118   \n",
       "2  152056  1.704365 -0.167720 -2.592158  1.220890  1.042788 -0.771913   \n",
       "3  152057  1.911497  0.663399 -0.886052  3.490222  0.846244  0.318316   \n",
       "4  152057  1.816562 -0.772929 -0.886973 -0.198932  0.351746  1.801854   \n",
       "\n",
       "         V7        V8        V9  ...       V21       V22       V23       V24  \\\n",
       "0 -1.892327  0.150420 -0.779665  ... -0.069577  0.198567  0.342330  0.020888   \n",
       "1  0.246946 -0.280569  0.360922  ... -0.363851 -0.895797  0.308897  0.404924   \n",
       "2  1.220637 -0.460107 -0.651317  ...  0.472828  1.107012 -0.357666  0.776130   \n",
       "3  0.227846 -0.021496 -1.549709  ...  0.291272  0.833430  0.086110  0.718088   \n",
       "4 -0.956822  0.605862  0.886718  ...  0.280947  0.874777  0.180991 -0.899702   \n",
       "\n",
       "        V25       V26       V27       V28  Amount  Class  \n",
       "0 -0.645078 -0.280447  0.049397 -0.036202   39.32      0  \n",
       "1 -0.205204  0.178142 -0.056736 -0.029960    1.98      0  \n",
       "2  0.798962 -0.266483 -0.090974 -0.049278  186.24      0  \n",
       "3  0.128834  0.079201 -0.045118 -0.053783    2.28      0  \n",
       "4 -0.511685  0.729750 -0.005731 -0.062497   50.00      0  \n",
       "\n",
       "[5 rows x 31 columns]"
      ]
     },
     "execution_count": 3,
     "metadata": {},
     "output_type": "execute_result"
    }
   ],
   "source": [
    "df.head()"
   ]
  },
  {
   "cell_type": "code",
   "execution_count": 4,
   "id": "92d19c98",
   "metadata": {},
   "outputs": [
    {
     "data": {
      "text/plain": [
       "(41065, 31)"
      ]
     },
     "execution_count": 4,
     "metadata": {},
     "output_type": "execute_result"
    }
   ],
   "source": [
    "df.shape"
   ]
  },
  {
   "cell_type": "code",
   "execution_count": 5,
   "id": "4d2a8f3a",
   "metadata": {},
   "outputs": [
    {
     "data": {
      "text/plain": [
       "Time      0\n",
       "V1        0\n",
       "V2        0\n",
       "V3        0\n",
       "V4        0\n",
       "V5        0\n",
       "V6        0\n",
       "V7        0\n",
       "V8        0\n",
       "V9        0\n",
       "V10       0\n",
       "V11       0\n",
       "V12       0\n",
       "V13       0\n",
       "V14       0\n",
       "V15       0\n",
       "V16       0\n",
       "V17       0\n",
       "V18       0\n",
       "V19       0\n",
       "V20       0\n",
       "V21       0\n",
       "V22       0\n",
       "V23       0\n",
       "V24       0\n",
       "V25       0\n",
       "V26       0\n",
       "V27       0\n",
       "V28       0\n",
       "Amount    0\n",
       "Class     0\n",
       "dtype: int64"
      ]
     },
     "execution_count": 5,
     "metadata": {},
     "output_type": "execute_result"
    }
   ],
   "source": [
    "df.isnull().sum()"
   ]
  },
  {
   "cell_type": "code",
   "execution_count": 6,
   "id": "b631e9e2",
   "metadata": {
    "scrolled": true
   },
   "outputs": [
    {
     "data": {
      "text/html": [
       "<div>\n",
       "<style scoped>\n",
       "    .dataframe tbody tr th:only-of-type {\n",
       "        vertical-align: middle;\n",
       "    }\n",
       "\n",
       "    .dataframe tbody tr th {\n",
       "        vertical-align: top;\n",
       "    }\n",
       "\n",
       "    .dataframe thead th {\n",
       "        text-align: right;\n",
       "    }\n",
       "</style>\n",
       "<table border=\"1\" class=\"dataframe\">\n",
       "  <thead>\n",
       "    <tr style=\"text-align: right;\">\n",
       "      <th></th>\n",
       "      <th>Time</th>\n",
       "      <th>V1</th>\n",
       "      <th>V2</th>\n",
       "      <th>V3</th>\n",
       "      <th>V4</th>\n",
       "      <th>V5</th>\n",
       "      <th>V6</th>\n",
       "      <th>V7</th>\n",
       "      <th>V8</th>\n",
       "      <th>V9</th>\n",
       "      <th>...</th>\n",
       "      <th>V21</th>\n",
       "      <th>V22</th>\n",
       "      <th>V23</th>\n",
       "      <th>V24</th>\n",
       "      <th>V25</th>\n",
       "      <th>V26</th>\n",
       "      <th>V27</th>\n",
       "      <th>V28</th>\n",
       "      <th>Amount</th>\n",
       "      <th>Class</th>\n",
       "    </tr>\n",
       "  </thead>\n",
       "  <tbody>\n",
       "    <tr>\n",
       "      <th>count</th>\n",
       "      <td>41065.000000</td>\n",
       "      <td>41065.000000</td>\n",
       "      <td>41065.000000</td>\n",
       "      <td>41065.000000</td>\n",
       "      <td>41065.000000</td>\n",
       "      <td>41065.000000</td>\n",
       "      <td>41065.000000</td>\n",
       "      <td>41065.000000</td>\n",
       "      <td>41065.000000</td>\n",
       "      <td>41065.000000</td>\n",
       "      <td>...</td>\n",
       "      <td>41065.000000</td>\n",
       "      <td>41065.000000</td>\n",
       "      <td>41065.000000</td>\n",
       "      <td>41065.000000</td>\n",
       "      <td>41065.000000</td>\n",
       "      <td>41065.000000</td>\n",
       "      <td>41065.000000</td>\n",
       "      <td>41065.000000</td>\n",
       "      <td>41065.000000</td>\n",
       "      <td>41065.000000</td>\n",
       "    </tr>\n",
       "    <tr>\n",
       "      <th>mean</th>\n",
       "      <td>161498.734762</td>\n",
       "      <td>0.277458</td>\n",
       "      <td>0.114185</td>\n",
       "      <td>-0.719394</td>\n",
       "      <td>-0.187962</td>\n",
       "      <td>0.262891</td>\n",
       "      <td>-0.127617</td>\n",
       "      <td>0.104565</td>\n",
       "      <td>-0.011310</td>\n",
       "      <td>-0.008802</td>\n",
       "      <td>...</td>\n",
       "      <td>0.019625</td>\n",
       "      <td>0.084762</td>\n",
       "      <td>0.043577</td>\n",
       "      <td>-0.003119</td>\n",
       "      <td>-0.152387</td>\n",
       "      <td>-0.010287</td>\n",
       "      <td>0.004244</td>\n",
       "      <td>-0.006369</td>\n",
       "      <td>72.026242</td>\n",
       "      <td>0.001193</td>\n",
       "    </tr>\n",
       "    <tr>\n",
       "      <th>std</th>\n",
       "      <td>5734.679578</td>\n",
       "      <td>1.926023</td>\n",
       "      <td>1.518737</td>\n",
       "      <td>1.381762</td>\n",
       "      <td>1.409318</td>\n",
       "      <td>1.375605</td>\n",
       "      <td>1.369272</td>\n",
       "      <td>1.282186</td>\n",
       "      <td>1.158560</td>\n",
       "      <td>0.992584</td>\n",
       "      <td>...</td>\n",
       "      <td>0.697127</td>\n",
       "      <td>0.783022</td>\n",
       "      <td>0.517987</td>\n",
       "      <td>0.601222</td>\n",
       "      <td>0.538659</td>\n",
       "      <td>0.458528</td>\n",
       "      <td>0.411571</td>\n",
       "      <td>0.308581</td>\n",
       "      <td>235.205863</td>\n",
       "      <td>0.034523</td>\n",
       "    </tr>\n",
       "    <tr>\n",
       "      <th>min</th>\n",
       "      <td>152055.000000</td>\n",
       "      <td>-35.548539</td>\n",
       "      <td>-31.850484</td>\n",
       "      <td>-48.325589</td>\n",
       "      <td>-5.266509</td>\n",
       "      <td>-113.743307</td>\n",
       "      <td>-17.282140</td>\n",
       "      <td>-21.116854</td>\n",
       "      <td>-39.267378</td>\n",
       "      <td>-4.944054</td>\n",
       "      <td>...</td>\n",
       "      <td>-21.620120</td>\n",
       "      <td>-6.152177</td>\n",
       "      <td>-14.078082</td>\n",
       "      <td>-2.775670</td>\n",
       "      <td>-3.741618</td>\n",
       "      <td>-1.732008</td>\n",
       "      <td>-9.845808</td>\n",
       "      <td>-15.430084</td>\n",
       "      <td>0.000000</td>\n",
       "      <td>0.000000</td>\n",
       "    </tr>\n",
       "    <tr>\n",
       "      <th>25%</th>\n",
       "      <td>156538.000000</td>\n",
       "      <td>-0.787151</td>\n",
       "      <td>-0.548503</td>\n",
       "      <td>-1.573558</td>\n",
       "      <td>-0.938673</td>\n",
       "      <td>-0.406221</td>\n",
       "      <td>-0.890389</td>\n",
       "      <td>-0.477624</td>\n",
       "      <td>-0.254771</td>\n",
       "      <td>-0.547031</td>\n",
       "      <td>...</td>\n",
       "      <td>-0.245088</td>\n",
       "      <td>-0.584947</td>\n",
       "      <td>-0.130506</td>\n",
       "      <td>-0.377590</td>\n",
       "      <td>-0.446518</td>\n",
       "      <td>-0.281009</td>\n",
       "      <td>-0.072209</td>\n",
       "      <td>-0.060874</td>\n",
       "      <td>3.990000</td>\n",
       "      <td>0.000000</td>\n",
       "    </tr>\n",
       "    <tr>\n",
       "      <th>50%</th>\n",
       "      <td>161347.000000</td>\n",
       "      <td>0.084732</td>\n",
       "      <td>0.084137</td>\n",
       "      <td>-0.712845</td>\n",
       "      <td>-0.360990</td>\n",
       "      <td>0.258533</td>\n",
       "      <td>-0.437473</td>\n",
       "      <td>0.160285</td>\n",
       "      <td>-0.025055</td>\n",
       "      <td>0.006093</td>\n",
       "      <td>...</td>\n",
       "      <td>-0.003222</td>\n",
       "      <td>0.110232</td>\n",
       "      <td>0.051488</td>\n",
       "      <td>0.016674</td>\n",
       "      <td>-0.222492</td>\n",
       "      <td>0.002442</td>\n",
       "      <td>-0.005949</td>\n",
       "      <td>-0.027692</td>\n",
       "      <td>15.980000</td>\n",
       "      <td>0.000000</td>\n",
       "    </tr>\n",
       "    <tr>\n",
       "      <th>75%</th>\n",
       "      <td>166072.000000</td>\n",
       "      <td>1.985264</td>\n",
       "      <td>0.896594</td>\n",
       "      <td>0.117486</td>\n",
       "      <td>0.407877</td>\n",
       "      <td>0.861436</td>\n",
       "      <td>0.227146</td>\n",
       "      <td>0.735291</td>\n",
       "      <td>0.306605</td>\n",
       "      <td>0.547267</td>\n",
       "      <td>...</td>\n",
       "      <td>0.238181</td>\n",
       "      <td>0.731824</td>\n",
       "      <td>0.235070</td>\n",
       "      <td>0.527536</td>\n",
       "      <td>0.187345</td>\n",
       "      <td>0.210693</td>\n",
       "      <td>0.107351</td>\n",
       "      <td>0.080577</td>\n",
       "      <td>59.850000</td>\n",
       "      <td>0.000000</td>\n",
       "    </tr>\n",
       "    <tr>\n",
       "      <th>max</th>\n",
       "      <td>172792.000000</td>\n",
       "      <td>2.446505</td>\n",
       "      <td>12.730564</td>\n",
       "      <td>3.682205</td>\n",
       "      <td>15.304184</td>\n",
       "      <td>28.516513</td>\n",
       "      <td>73.301626</td>\n",
       "      <td>120.589494</td>\n",
       "      <td>10.713656</td>\n",
       "      <td>7.871113</td>\n",
       "      <td>...</td>\n",
       "      <td>20.063786</td>\n",
       "      <td>7.057496</td>\n",
       "      <td>22.083545</td>\n",
       "      <td>4.584549</td>\n",
       "      <td>6.070850</td>\n",
       "      <td>3.415636</td>\n",
       "      <td>31.612198</td>\n",
       "      <td>15.407019</td>\n",
       "      <td>25691.160000</td>\n",
       "      <td>1.000000</td>\n",
       "    </tr>\n",
       "  </tbody>\n",
       "</table>\n",
       "<p>8 rows × 31 columns</p>\n",
       "</div>"
      ],
      "text/plain": [
       "                Time            V1            V2            V3            V4  \\\n",
       "count   41065.000000  41065.000000  41065.000000  41065.000000  41065.000000   \n",
       "mean   161498.734762      0.277458      0.114185     -0.719394     -0.187962   \n",
       "std      5734.679578      1.926023      1.518737      1.381762      1.409318   \n",
       "min    152055.000000    -35.548539    -31.850484    -48.325589     -5.266509   \n",
       "25%    156538.000000     -0.787151     -0.548503     -1.573558     -0.938673   \n",
       "50%    161347.000000      0.084732      0.084137     -0.712845     -0.360990   \n",
       "75%    166072.000000      1.985264      0.896594      0.117486      0.407877   \n",
       "max    172792.000000      2.446505     12.730564      3.682205     15.304184   \n",
       "\n",
       "                 V5            V6            V7            V8            V9  \\\n",
       "count  41065.000000  41065.000000  41065.000000  41065.000000  41065.000000   \n",
       "mean       0.262891     -0.127617      0.104565     -0.011310     -0.008802   \n",
       "std        1.375605      1.369272      1.282186      1.158560      0.992584   \n",
       "min     -113.743307    -17.282140    -21.116854    -39.267378     -4.944054   \n",
       "25%       -0.406221     -0.890389     -0.477624     -0.254771     -0.547031   \n",
       "50%        0.258533     -0.437473      0.160285     -0.025055      0.006093   \n",
       "75%        0.861436      0.227146      0.735291      0.306605      0.547267   \n",
       "max       28.516513     73.301626    120.589494     10.713656      7.871113   \n",
       "\n",
       "       ...           V21           V22           V23           V24  \\\n",
       "count  ...  41065.000000  41065.000000  41065.000000  41065.000000   \n",
       "mean   ...      0.019625      0.084762      0.043577     -0.003119   \n",
       "std    ...      0.697127      0.783022      0.517987      0.601222   \n",
       "min    ...    -21.620120     -6.152177    -14.078082     -2.775670   \n",
       "25%    ...     -0.245088     -0.584947     -0.130506     -0.377590   \n",
       "50%    ...     -0.003222      0.110232      0.051488      0.016674   \n",
       "75%    ...      0.238181      0.731824      0.235070      0.527536   \n",
       "max    ...     20.063786      7.057496     22.083545      4.584549   \n",
       "\n",
       "                V25           V26           V27           V28        Amount  \\\n",
       "count  41065.000000  41065.000000  41065.000000  41065.000000  41065.000000   \n",
       "mean      -0.152387     -0.010287      0.004244     -0.006369     72.026242   \n",
       "std        0.538659      0.458528      0.411571      0.308581    235.205863   \n",
       "min       -3.741618     -1.732008     -9.845808    -15.430084      0.000000   \n",
       "25%       -0.446518     -0.281009     -0.072209     -0.060874      3.990000   \n",
       "50%       -0.222492      0.002442     -0.005949     -0.027692     15.980000   \n",
       "75%        0.187345      0.210693      0.107351      0.080577     59.850000   \n",
       "max        6.070850      3.415636     31.612198     15.407019  25691.160000   \n",
       "\n",
       "              Class  \n",
       "count  41065.000000  \n",
       "mean       0.001193  \n",
       "std        0.034523  \n",
       "min        0.000000  \n",
       "25%        0.000000  \n",
       "50%        0.000000  \n",
       "75%        0.000000  \n",
       "max        1.000000  \n",
       "\n",
       "[8 rows x 31 columns]"
      ]
     },
     "execution_count": 6,
     "metadata": {},
     "output_type": "execute_result"
    }
   ],
   "source": [
    "df.describe()"
   ]
  },
  {
   "cell_type": "code",
   "execution_count": 7,
   "id": "3b37fcdc",
   "metadata": {
    "scrolled": true
   },
   "outputs": [
    {
     "data": {
      "text/plain": [
       "0        False\n",
       "1        False\n",
       "2        False\n",
       "3        False\n",
       "4        False\n",
       "         ...  \n",
       "41060    False\n",
       "41061    False\n",
       "41062    False\n",
       "41063    False\n",
       "41064    False\n",
       "Name: Class, Length: 41065, dtype: bool"
      ]
     },
     "execution_count": 7,
     "metadata": {},
     "output_type": "execute_result"
    }
   ],
   "source": [
    "df[\"Class\"]==1"
   ]
  },
  {
   "cell_type": "code",
   "execution_count": 8,
   "id": "c197e6a9",
   "metadata": {},
   "outputs": [
    {
     "data": {
      "text/plain": [
       "0    41016\n",
       "1       49\n",
       "Name: Class, dtype: int64"
      ]
     },
     "execution_count": 8,
     "metadata": {},
     "output_type": "execute_result"
    }
   ],
   "source": [
    "df[\"Class\"].value_counts()"
   ]
  },
  {
   "cell_type": "code",
   "execution_count": 9,
   "id": "93d14058",
   "metadata": {},
   "outputs": [
    {
     "data": {
      "text/plain": [
       "Time        int64\n",
       "V1        float64\n",
       "V2        float64\n",
       "V3        float64\n",
       "V4        float64\n",
       "V5        float64\n",
       "V6        float64\n",
       "V7        float64\n",
       "V8        float64\n",
       "V9        float64\n",
       "V10       float64\n",
       "V11       float64\n",
       "V12       float64\n",
       "V13       float64\n",
       "V14       float64\n",
       "V15       float64\n",
       "V16       float64\n",
       "V17       float64\n",
       "V18       float64\n",
       "V19       float64\n",
       "V20       float64\n",
       "V21       float64\n",
       "V22       float64\n",
       "V23       float64\n",
       "V24       float64\n",
       "V25       float64\n",
       "V26       float64\n",
       "V27       float64\n",
       "V28       float64\n",
       "Amount    float64\n",
       "Class       int64\n",
       "dtype: object"
      ]
     },
     "execution_count": 9,
     "metadata": {},
     "output_type": "execute_result"
    }
   ],
   "source": [
    "df.dtypes"
   ]
  },
  {
   "cell_type": "code",
   "execution_count": 10,
   "id": "0314a60e",
   "metadata": {},
   "outputs": [
    {
     "name": "stdout",
     "output_type": "stream",
     "text": [
      "Fraud Cases: 49\n",
      "Valid Transactions: 41016\n"
     ]
    }
   ],
   "source": [
    "fraud_cases = df['Class'].value_counts()[1]\n",
    "valid_transactions = df['Class'].value_counts()[0]\n",
    "\n",
    "print(\"Fraud Cases:\", fraud_cases)\n",
    "print(\"Valid Transactions:\", valid_transactions)"
   ]
  },
  {
   "cell_type": "code",
   "execution_count": 11,
   "id": "e5574a3b",
   "metadata": {},
   "outputs": [
    {
     "data": {
      "image/png": "[encoded data removed]",
      "text/plain": [
       "<Figure size 432x288 with 1 Axes>"
      ]
     },
     "metadata": {
      "needs_background": "light"
     },
     "output_type": "display_data"
    }
   ],
   "source": [
    "plt.figure()\n",
    "sns.countplot(data = df, x = df.Class)\n",
    "plt.xticks([0, 1], ['Non-Fraud', 'Fraud'])\n",
    "plt.title('Class distribution: Non-Fraud vs Fraud')\n",
    "plt.show()"
   ]
  },
  {
   "cell_type": "code",
   "execution_count": 12,
   "id": "2877a499",
   "metadata": {
    "scrolled": false
   },
   "outputs": [
    {
     "data": {
      "image/png": "[encoded data removed]",
      "text/plain": [
       "<Figure size 432x288 with 1 Axes>"
      ]
     },
     "metadata": {
      "needs_background": "light"
     },
     "output_type": "display_data"
    }
   ],
   "source": [
    "x=df[\"Time\"]\n",
    "y=len(df[df[\"Class\"]==1])\n",
    "plt.hist(x,y)\n",
    "plt.title(\"Time vs Frad_Cases\")\n",
    "plt.xlabel(\"Time\")\n",
    "plt.ylabel(\"Fraud_Cases\")\n",
    "plt.show()"
   ]
  },
  {
   "cell_type": "code",
   "execution_count": 13,
   "id": "3787949a",
   "metadata": {},
   "outputs": [
    {
     "data": {
      "text/html": [
       "<div>\n",
       "<style scoped>\n",
       "    .dataframe tbody tr th:only-of-type {\n",
       "        vertical-align: middle;\n",
       "    }\n",
       "\n",
       "    .dataframe tbody tr th {\n",
       "        vertical-align: top;\n",
       "    }\n",
       "\n",
       "    .dataframe thead th {\n",
       "        text-align: right;\n",
       "    }\n",
       "</style>\n",
       "<table border=\"1\" class=\"dataframe\">\n",
       "  <thead>\n",
       "    <tr style=\"text-align: right;\">\n",
       "      <th></th>\n",
       "      <th>Time</th>\n",
       "      <th>V1</th>\n",
       "      <th>V2</th>\n",
       "      <th>V3</th>\n",
       "      <th>V4</th>\n",
       "      <th>V5</th>\n",
       "      <th>V6</th>\n",
       "      <th>V7</th>\n",
       "      <th>V8</th>\n",
       "      <th>V9</th>\n",
       "      <th>...</th>\n",
       "      <th>V20</th>\n",
       "      <th>V21</th>\n",
       "      <th>V22</th>\n",
       "      <th>V23</th>\n",
       "      <th>V24</th>\n",
       "      <th>V25</th>\n",
       "      <th>V26</th>\n",
       "      <th>V27</th>\n",
       "      <th>V28</th>\n",
       "      <th>Amount</th>\n",
       "    </tr>\n",
       "  </thead>\n",
       "  <tbody>\n",
       "    <tr>\n",
       "      <th>0</th>\n",
       "      <td>152055</td>\n",
       "      <td>2.137513</td>\n",
       "      <td>-1.774889</td>\n",
       "      <td>0.123651</td>\n",
       "      <td>-1.496837</td>\n",
       "      <td>-2.170251</td>\n",
       "      <td>-0.300998</td>\n",
       "      <td>-1.892327</td>\n",
       "      <td>0.150420</td>\n",
       "      <td>-0.779665</td>\n",
       "      <td>...</td>\n",
       "      <td>-0.418962</td>\n",
       "      <td>-0.069577</td>\n",
       "      <td>0.198567</td>\n",
       "      <td>0.342330</td>\n",
       "      <td>0.020888</td>\n",
       "      <td>-0.645078</td>\n",
       "      <td>-0.280447</td>\n",
       "      <td>0.049397</td>\n",
       "      <td>-0.036202</td>\n",
       "      <td>39.32</td>\n",
       "    </tr>\n",
       "    <tr>\n",
       "      <th>1</th>\n",
       "      <td>152055</td>\n",
       "      <td>2.086303</td>\n",
       "      <td>0.222409</td>\n",
       "      <td>-1.748963</td>\n",
       "      <td>0.371876</td>\n",
       "      <td>0.576037</td>\n",
       "      <td>-0.769118</td>\n",
       "      <td>0.246946</td>\n",
       "      <td>-0.280569</td>\n",
       "      <td>0.360922</td>\n",
       "      <td>...</td>\n",
       "      <td>-0.089617</td>\n",
       "      <td>-0.363851</td>\n",
       "      <td>-0.895797</td>\n",
       "      <td>0.308897</td>\n",
       "      <td>0.404924</td>\n",
       "      <td>-0.205204</td>\n",
       "      <td>0.178142</td>\n",
       "      <td>-0.056736</td>\n",
       "      <td>-0.029960</td>\n",
       "      <td>1.98</td>\n",
       "    </tr>\n",
       "    <tr>\n",
       "      <th>2</th>\n",
       "      <td>152056</td>\n",
       "      <td>1.704365</td>\n",
       "      <td>-0.167720</td>\n",
       "      <td>-2.592158</td>\n",
       "      <td>1.220890</td>\n",
       "      <td>1.042788</td>\n",
       "      <td>-0.771913</td>\n",
       "      <td>1.220637</td>\n",
       "      <td>-0.460107</td>\n",
       "      <td>-0.651317</td>\n",
       "      <td>...</td>\n",
       "      <td>0.128810</td>\n",
       "      <td>0.472828</td>\n",
       "      <td>1.107012</td>\n",
       "      <td>-0.357666</td>\n",
       "      <td>0.776130</td>\n",
       "      <td>0.798962</td>\n",
       "      <td>-0.266483</td>\n",
       "      <td>-0.090974</td>\n",
       "      <td>-0.049278</td>\n",
       "      <td>186.24</td>\n",
       "    </tr>\n",
       "    <tr>\n",
       "      <th>3</th>\n",
       "      <td>152057</td>\n",
       "      <td>1.911497</td>\n",
       "      <td>0.663399</td>\n",
       "      <td>-0.886052</td>\n",
       "      <td>3.490222</td>\n",
       "      <td>0.846244</td>\n",
       "      <td>0.318316</td>\n",
       "      <td>0.227846</td>\n",
       "      <td>-0.021496</td>\n",
       "      <td>-1.549709</td>\n",
       "      <td>...</td>\n",
       "      <td>-0.201222</td>\n",
       "      <td>0.291272</td>\n",
       "      <td>0.833430</td>\n",
       "      <td>0.086110</td>\n",
       "      <td>0.718088</td>\n",
       "      <td>0.128834</td>\n",
       "      <td>0.079201</td>\n",
       "      <td>-0.045118</td>\n",
       "      <td>-0.053783</td>\n",
       "      <td>2.28</td>\n",
       "    </tr>\n",
       "    <tr>\n",
       "      <th>4</th>\n",
       "      <td>152057</td>\n",
       "      <td>1.816562</td>\n",
       "      <td>-0.772929</td>\n",
       "      <td>-0.886973</td>\n",
       "      <td>-0.198932</td>\n",
       "      <td>0.351746</td>\n",
       "      <td>1.801854</td>\n",
       "      <td>-0.956822</td>\n",
       "      <td>0.605862</td>\n",
       "      <td>0.886718</td>\n",
       "      <td>...</td>\n",
       "      <td>-0.148729</td>\n",
       "      <td>0.280947</td>\n",
       "      <td>0.874777</td>\n",
       "      <td>0.180991</td>\n",
       "      <td>-0.899702</td>\n",
       "      <td>-0.511685</td>\n",
       "      <td>0.729750</td>\n",
       "      <td>-0.005731</td>\n",
       "      <td>-0.062497</td>\n",
       "      <td>50.00</td>\n",
       "    </tr>\n",
       "  </tbody>\n",
       "</table>\n",
       "<p>5 rows × 30 columns</p>\n",
       "</div>"
      ],
      "text/plain": [
       "     Time        V1        V2        V3        V4        V5        V6  \\\n",
       "0  152055  2.137513 -1.774889  0.123651 -1.496837 -2.170251 -0.300998   \n",
       "1  152055  2.086303  0.222409 -1.748963  0.371876  0.576037 -0.769118   \n",
       "2  152056  1.704365 -0.167720 -2.592158  1.220890  1.042788 -0.771913   \n",
       "3  152057  1.911497  0.663399 -0.886052  3.490222  0.846244  0.318316   \n",
       "4  152057  1.816562 -0.772929 -0.886973 -0.198932  0.351746  1.801854   \n",
       "\n",
       "         V7        V8        V9  ...       V20       V21       V22       V23  \\\n",
       "0 -1.892327  0.150420 -0.779665  ... -0.418962 -0.069577  0.198567  0.342330   \n",
       "1  0.246946 -0.280569  0.360922  ... -0.089617 -0.363851 -0.895797  0.308897   \n",
       "2  1.220637 -0.460107 -0.651317  ...  0.128810  0.472828  1.107012 -0.357666   \n",
       "3  0.227846 -0.021496 -1.549709  ... -0.201222  0.291272  0.833430  0.086110   \n",
       "4 -0.956822  0.605862  0.886718  ... -0.148729  0.280947  0.874777  0.180991   \n",
       "\n",
       "        V24       V25       V26       V27       V28  Amount  \n",
       "0  0.020888 -0.645078 -0.280447  0.049397 -0.036202   39.32  \n",
       "1  0.404924 -0.205204  0.178142 -0.056736 -0.029960    1.98  \n",
       "2  0.776130  0.798962 -0.266483 -0.090974 -0.049278  186.24  \n",
       "3  0.718088  0.128834  0.079201 -0.045118 -0.053783    2.28  \n",
       "4 -0.899702 -0.511685  0.729750 -0.005731 -0.062497   50.00  \n",
       "\n",
       "[5 rows x 30 columns]"
      ]
     },
     "execution_count": 13,
     "metadata": {},
     "output_type": "execute_result"
    }
   ],
   "source": [
    "x=df.drop(\"Class\",axis=1)\n",
    "x.head()"
   ]
  },
  {
   "cell_type": "code",
   "execution_count": 14,
   "id": "4ed30f4a",
   "metadata": {},
   "outputs": [
    {
     "data": {
      "text/plain": [
       "0    0\n",
       "1    0\n",
       "2    0\n",
       "3    0\n",
       "4    0\n",
       "Name: Class, dtype: int64"
      ]
     },
     "execution_count": 14,
     "metadata": {},
     "output_type": "execute_result"
    }
   ],
   "source": [
    "y=df[\"Class\"]\n",
    "y.head()"
   ]
  },
  {
   "cell_type": "code",
   "execution_count": 15,
   "id": "8a4b3d5f",
   "metadata": {},
   "outputs": [],
   "source": [
    "x_train, x_test, y_train, y_test=train_test_split(x,y,test_size=0.25,random_state=0)"
   ]
  },
  {
   "cell_type": "code",
   "execution_count": 16,
   "id": "95dabf83",
   "metadata": {},
   "outputs": [
    {
     "data": {
      "text/plain": [
       "((30798, 30), (10267, 30), (30798,), (10267,))"
      ]
     },
     "execution_count": 16,
     "metadata": {},
     "output_type": "execute_result"
    }
   ],
   "source": [
    "x_train.shape,x_test.shape,y_train.shape,y_test.shape"
   ]
  },
  {
   "cell_type": "code",
   "execution_count": 17,
   "id": "57869273",
   "metadata": {},
   "outputs": [
    {
     "name": "stderr",
     "output_type": "stream",
     "text": [
      "C:\\Users\\dhira\\anaconda3\\lib\\site-packages\\sklearn\\linear_model\\_logistic.py:814: ConvergenceWarning: lbfgs failed to converge (status=2):\n",
      "ABNORMAL_TERMINATION_IN_LNSRCH.\n",
      "\n",
      "Increase the number of iterations (max_iter) or scale the data as shown in:\n",
      "    https://scikit-learn.org/stable/modules/preprocessing.html\n",
      "Please also refer to the documentation for alternative solver options:\n",
      "    https://scikit-learn.org/stable/modules/linear_model.html#logistic-regression\n",
      "  n_iter_i = _check_optimize_result(\n"
     ]
    },
    {
     "data": {
      "text/plain": [
       "LogisticRegression(max_iter=1000)"
      ]
     },
     "execution_count": 17,
     "metadata": {},
     "output_type": "execute_result"
    }
   ],
   "source": [
    "from sklearn.linear_model import LogisticRegression \n",
    "lr=LogisticRegression(max_iter=1000)\n",
    "lr.fit(x_train,y_train)"
   ]
  },
  {
   "cell_type": "code",
   "execution_count": 18,
   "id": "524a12fa",
   "metadata": {},
   "outputs": [
    {
     "data": {
      "text/plain": [
       "0.9987338073439174"
      ]
     },
     "execution_count": 18,
     "metadata": {},
     "output_type": "execute_result"
    }
   ],
   "source": [
    "lr.score(x_test,y_test)"
   ]
  },
  {
   "cell_type": "code",
   "execution_count": 19,
   "id": "20a65f09",
   "metadata": {},
   "outputs": [
    {
     "data": {
      "text/plain": [
       "array([0, 0, 0, ..., 0, 0, 0], dtype=int64)"
      ]
     },
     "execution_count": 19,
     "metadata": {},
     "output_type": "execute_result"
    }
   ],
   "source": [
    "y_pred=lr.predict(x_test)\n",
    "y_pred"
   ]
  },
  {
   "cell_type": "code",
   "execution_count": 20,
   "id": "54a7c109",
   "metadata": {},
   "outputs": [
    {
     "data": {
      "text/html": [
       "<div>\n",
       "<style scoped>\n",
       "    .dataframe tbody tr th:only-of-type {\n",
       "        vertical-align: middle;\n",
       "    }\n",
       "\n",
       "    .dataframe tbody tr th {\n",
       "        vertical-align: top;\n",
       "    }\n",
       "\n",
       "    .dataframe thead th {\n",
       "        text-align: right;\n",
       "    }\n",
       "</style>\n",
       "<table border=\"1\" class=\"dataframe\">\n",
       "  <thead>\n",
       "    <tr style=\"text-align: right;\">\n",
       "      <th></th>\n",
       "      <th>Actual</th>\n",
       "      <th>Predicted</th>\n",
       "    </tr>\n",
       "  </thead>\n",
       "  <tbody>\n",
       "    <tr>\n",
       "      <th>40672</th>\n",
       "      <td>0</td>\n",
       "      <td>0</td>\n",
       "    </tr>\n",
       "    <tr>\n",
       "      <th>32793</th>\n",
       "      <td>0</td>\n",
       "      <td>0</td>\n",
       "    </tr>\n",
       "    <tr>\n",
       "      <th>10913</th>\n",
       "      <td>0</td>\n",
       "      <td>0</td>\n",
       "    </tr>\n",
       "    <tr>\n",
       "      <th>40634</th>\n",
       "      <td>0</td>\n",
       "      <td>0</td>\n",
       "    </tr>\n",
       "    <tr>\n",
       "      <th>16989</th>\n",
       "      <td>0</td>\n",
       "      <td>0</td>\n",
       "    </tr>\n",
       "    <tr>\n",
       "      <th>...</th>\n",
       "      <td>...</td>\n",
       "      <td>...</td>\n",
       "    </tr>\n",
       "    <tr>\n",
       "      <th>17929</th>\n",
       "      <td>0</td>\n",
       "      <td>0</td>\n",
       "    </tr>\n",
       "    <tr>\n",
       "      <th>10311</th>\n",
       "      <td>0</td>\n",
       "      <td>0</td>\n",
       "    </tr>\n",
       "    <tr>\n",
       "      <th>14487</th>\n",
       "      <td>0</td>\n",
       "      <td>0</td>\n",
       "    </tr>\n",
       "    <tr>\n",
       "      <th>40679</th>\n",
       "      <td>0</td>\n",
       "      <td>0</td>\n",
       "    </tr>\n",
       "    <tr>\n",
       "      <th>11340</th>\n",
       "      <td>0</td>\n",
       "      <td>0</td>\n",
       "    </tr>\n",
       "  </tbody>\n",
       "</table>\n",
       "<p>10267 rows × 2 columns</p>\n",
       "</div>"
      ],
      "text/plain": [
       "       Actual  Predicted\n",
       "40672       0          0\n",
       "32793       0          0\n",
       "10913       0          0\n",
       "40634       0          0\n",
       "16989       0          0\n",
       "...       ...        ...\n",
       "17929       0          0\n",
       "10311       0          0\n",
       "14487       0          0\n",
       "40679       0          0\n",
       "11340       0          0\n",
       "\n",
       "[10267 rows x 2 columns]"
      ]
     },
     "execution_count": 20,
     "metadata": {},
     "output_type": "execute_result"
    }
   ],
   "source": [
    "#compare the acual and predicted output\n",
    "df2=pd.DataFrame({\n",
    "    \"Actual\":y_test,\n",
    "    \"Predicted\":y_pred\n",
    "})\n",
    "df2"
   ]
  },
  {
   "cell_type": "code",
   "execution_count": 21,
   "id": "f42322d5",
   "metadata": {},
   "outputs": [
    {
     "data": {
      "text/plain": [
       "0.9987338073439174"
      ]
     },
     "execution_count": 21,
     "metadata": {},
     "output_type": "execute_result"
    }
   ],
   "source": [
    "accuracy_score(y_test,y_pred)"
   ]
  },
  {
   "cell_type": "code",
   "execution_count": 22,
   "id": "05ab0941",
   "metadata": {},
   "outputs": [
    {
     "data": {
      "text/plain": [
       "array([[10254,     0],\n",
       "       [   13,     0]], dtype=int64)"
      ]
     },
     "execution_count": 22,
     "metadata": {},
     "output_type": "execute_result"
    }
   ],
   "source": [
    "confusion_matrix(y_test,y_pred)"
   ]
  },
  {
   "cell_type": "code",
   "execution_count": 23,
   "id": "c9ec929a",
   "metadata": {
    "scrolled": true
   },
   "outputs": [
    {
     "data": {
      "text/plain": [
       "0.0"
      ]
     },
     "execution_count": 23,
     "metadata": {},
     "output_type": "execute_result"
    }
   ],
   "source": [
    "f1_score(y_test,y_pred)"
   ]
  },
  {
   "cell_type": "code",
   "execution_count": 24,
   "id": "5f0a217e",
   "metadata": {},
   "outputs": [
    {
     "data": {
      "text/plain": [
       "array([[-1.35217503e-03, -2.36449520e-09, -9.34137141e-10,\n",
       "         5.99193151e-09,  1.59867521e-09, -2.19323385e-09,\n",
       "         9.78767658e-10, -9.21572959e-10,  6.89375455e-11,\n",
       "         2.74101260e-11, -1.32879702e-10,  2.59369930e-09,\n",
       "        -1.71975449e-09,  3.81152312e-10,  1.01706886e-09,\n",
       "         1.69294750e-09, -2.22363249e-10,  4.90771366e-10,\n",
       "        -8.05001427e-10, -2.47322446e-10,  3.21081423e-10,\n",
       "        -1.38670738e-10, -6.81585010e-10, -3.48539527e-10,\n",
       "         2.22864577e-11,  1.28282161e-09,  9.48622919e-11,\n",
       "        -4.63816156e-11,  6.19337130e-11, -6.06723552e-07]])"
      ]
     },
     "execution_count": 24,
     "metadata": {},
     "output_type": "execute_result"
    }
   ],
   "source": [
    "lr.coef_"
   ]
  },
  {
   "cell_type": "code",
   "execution_count": 25,
   "id": "08980e96",
   "metadata": {},
   "outputs": [
    {
     "data": {
      "text/plain": [
       "array([-8.37193011e-09])"
      ]
     },
     "execution_count": 25,
     "metadata": {},
     "output_type": "execute_result"
    }
   ],
   "source": [
    "lr.intercept_"
   ]
  },
  {
   "cell_type": "code",
   "execution_count": 26,
   "id": "75f96606",
   "metadata": {},
   "outputs": [],
   "source": [
    "import math\n",
    "def sigmoid(x):\n",
    "    return 1/(1+math.exp(-x))"
   ]
  },
  {
   "cell_type": "code",
   "execution_count": 27,
   "id": "f9b41766",
   "metadata": {},
   "outputs": [],
   "source": [
    "def prediction_function(Amount):\n",
    "    z = -1.35217503e-03 * Amount -8.37193011e-09 \n",
    "    y = sigmoid(z)\n",
    "    return y"
   ]
  },
  {
   "cell_type": "code",
   "execution_count": 28,
   "id": "348b742c",
   "metadata": {},
   "outputs": [
    {
     "data": {
      "text/plain": [
       "0.4211536100990573"
      ]
     },
     "execution_count": 28,
     "metadata": {},
     "output_type": "execute_result"
    }
   ],
   "source": [
    "amount=235.205863\n",
    "prediction_function(amount)"
   ]
  },
  {
   "cell_type": "code",
   "execution_count": null,
   "id": "4c366cab",
   "metadata": {},
   "outputs": [],
   "source": []
  }
 ],
 "metadata": {
  "kernelspec": {
   "display_name": "Python 3 (ipykernel)",
   "language": "python",
   "name": "python3"
  },
  "language_info": {
   "codemirror_mode": {
    "name": "ipython",
    "version": 3
   },
   "file_extension": ".py",
   "mimetype": "text/x-python",
   "name": "python",
   "nbconvert_exporter": "python",
   "pygments_lexer": "ipython3",
   "version": "3.9.12"
  }
 },
 "nbformat": 4,
 "nbformat_minor": 5
}
